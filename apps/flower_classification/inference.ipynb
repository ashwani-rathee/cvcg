{
 "cells": [
  {
   "cell_type": "code",
   "execution_count": 28,
   "id": "69c131e4-ddd2-41a7-830c-9c34af4f0f54",
   "metadata": {},
   "outputs": [],
   "source": [
    "import torch\n",
    "from torchvision import datasets, transforms, models\n",
    "from PIL import Image\n",
    "import torch.nn as nn\n",
    "import torch.optim as optim"
   ]
  },
  {
   "cell_type": "code",
   "execution_count": 29,
   "id": "3a6a7b3d-2929-4daa-8c39-19201f843b79",
   "metadata": {},
   "outputs": [],
   "source": [
    "# Define transformations\n",
    "transform = transforms.Compose([\n",
    "    transforms.Resize((224, 224)),       # Resize images to 224x224\n",
    "    transforms.ToTensor(),               # Convert images to PyTorch tensors\n",
    "    transforms.Normalize([0.485, 0.456, 0.406], [0.229, 0.224, 0.225])  # Normalize with ImageNet stats\n",
    "])"
   ]
  },
  {
   "cell_type": "code",
   "execution_count": 30,
   "id": "156f745c-68ea-42e7-995b-a1b0fa79b476",
   "metadata": {},
   "outputs": [],
   "source": [
    "device = torch.device(\"mps\" if torch.backends.mps.is_available() else \"cpu\")"
   ]
  },
  {
   "cell_type": "code",
   "execution_count": 31,
   "id": "cd889e61-f6f9-4fee-9867-f11b226febbb",
   "metadata": {},
   "outputs": [],
   "source": [
    "# Load and preprocess the image\n",
    "image = Image.open(\"./data/flowers-102/jpg/image_00001.jpg\")\n",
    "input_tensor = transform(image)\n",
    "final_tensor = input_tensor.unsqueeze(0).to(device)"
   ]
  },
  {
   "cell_type": "code",
   "execution_count": 32,
   "id": "fc8bd058-72cf-4428-9efc-c4c939459b21",
   "metadata": {},
   "outputs": [],
   "source": [
    "model = models.resnet50()  # Example for ResNet-50\n",
    "# Modify the fully connected layer to match the checkpoint\n",
    "num_classes = 102  # Number of output classes in your fine-tuned model\n",
    "model.fc = nn.Linear(model.fc.in_features, num_classes)\n",
    "\n",
    "# Load the state_dict\n",
    "model.load_state_dict(torch.load(\"flower_model.pth\"))\n",
    "model.eval()  # Set to evaluation mode\n",
    "model = model.to(device)"
   ]
  },
  {
   "cell_type": "code",
   "execution_count": 33,
   "id": "daa2f2ea-10ea-4239-b94d-128919709b31",
   "metadata": {},
   "outputs": [
    {
     "name": "stdout",
     "output_type": "stream",
     "text": [
      "Predicted class index: 76\n"
     ]
    }
   ],
   "source": [
    "# Perform inference\n",
    "with torch.no_grad():\n",
    "    output = model(final_tensor)\n",
    "_, predicted_class = output[0].max(0)\n",
    "print(f\"Predicted class index: {predicted_class.item()}\")"
   ]
  },
  {
   "cell_type": "code",
   "execution_count": null,
   "id": "26218e70-bca0-4295-97fc-3107287662d9",
   "metadata": {},
   "outputs": [],
   "source": []
  }
 ],
 "metadata": {
  "kernelspec": {
   "display_name": "Python 3 (ipykernel)",
   "language": "python",
   "name": "python3"
  },
  "language_info": {
   "codemirror_mode": {
    "name": "ipython",
    "version": 3
   },
   "file_extension": ".py",
   "mimetype": "text/x-python",
   "name": "python",
   "nbconvert_exporter": "python",
   "pygments_lexer": "ipython3",
   "version": "3.9.19"
  }
 },
 "nbformat": 4,
 "nbformat_minor": 5
}
