{
 "cells": [
  {
   "cell_type": "code",
   "execution_count": 6,
   "id": "8c488ce5-7f90-4018-8ed9-1f563099815b",
   "metadata": {},
   "outputs": [
    {
     "name": "stdout",
     "output_type": "stream",
     "text": [
      "Collecting scipy\n",
      "  Downloading scipy-1.13.1-cp39-cp39-macosx_12_0_arm64.whl.metadata (60 kB)\n",
      "\u001b[2K     \u001b[38;2;114;156;31m━━━━━━━━━━━━━━━━━━━━━━━━━━━━━━━━━━━━━━━━\u001b[0m \u001b[32m60.6/60.6 kB\u001b[0m \u001b[31m1.7 MB/s\u001b[0m eta \u001b[36m0:00:00\u001b[0m\n",
      "\u001b[?25hRequirement already satisfied: numpy<2.3,>=1.22.4 in /Users/ash/miniforge3/envs/dl/lib/python3.9/site-packages (from scipy) (2.0.0)\n",
      "Downloading scipy-1.13.1-cp39-cp39-macosx_12_0_arm64.whl (30.3 MB)\n",
      "\u001b[2K   \u001b[38;2;114;156;31m━━━━━━━━━━━━━━━━━━━━━━━━━━━━━━━━━━━━━━━━\u001b[0m \u001b[32m30.3/30.3 MB\u001b[0m \u001b[31m39.0 MB/s\u001b[0m eta \u001b[36m0:00:00\u001b[0mm eta \u001b[36m0:00:01\u001b[0m0:01\u001b[0m:01\u001b[0m\n",
      "Installing collected packages: scipy\n",
      "Successfully installed scipy-1.13.1\n"
     ]
    }
   ],
   "source": [
    "!pip install scipy"
   ]
  },
  {
   "cell_type": "code",
   "execution_count": 1,
   "id": "d571cc59-dd3d-465d-acea-20296a430611",
   "metadata": {},
   "outputs": [],
   "source": [
    "import torch\n",
    "from torchvision import datasets, transforms\n",
    "from torch.utils.data import DataLoader"
   ]
  },
  {
   "cell_type": "code",
   "execution_count": 2,
   "id": "e1348e38-2931-487c-9860-c54f10800a1a",
   "metadata": {},
   "outputs": [],
   "source": [
    "# Define transformations\n",
    "transform = transforms.Compose([\n",
    "    transforms.Resize((224, 224)),       # Resize images to 224x224\n",
    "    transforms.ToTensor(),               # Convert images to PyTorch tensors\n",
    "    transforms.Normalize([0.485, 0.456, 0.406], [0.229, 0.224, 0.225])  # Normalize with ImageNet stats\n",
    "])"
   ]
  },
  {
   "cell_type": "code",
   "execution_count": 7,
   "id": "6f049525-e04e-45ce-9cc2-8c096cbc9c83",
   "metadata": {},
   "outputs": [],
   "source": [
    "\n",
    "# Load Flowers102 dataset\n",
    "train_data = datasets.Flowers102(\n",
    "    root=\"./data\",  # Directory to store data\n",
    "    split=\"train\",  # Options: 'train', 'val', 'test'\n",
    "    transform=transform,\n",
    "    download=True   # Download if not already downloaded\n",
    ")\n",
    "\n",
    "val_data = datasets.Flowers102(\n",
    "    root=\"./data\",\n",
    "    split=\"val\",\n",
    "    transform=transform,\n",
    "    download=True\n",
    ")\n",
    "\n",
    "test_data = datasets.Flowers102(\n",
    "    root=\"./data\",\n",
    "    split=\"test\",\n",
    "    transform=transform,\n",
    "    download=True\n",
    ")"
   ]
  },
  {
   "cell_type": "code",
   "execution_count": 8,
   "id": "a57cd806-bc2b-4337-b12c-a961ec997474",
   "metadata": {},
   "outputs": [
    {
     "name": "stdout",
     "output_type": "stream",
     "text": [
      "Train size: 1020\n",
      "Validation size: 1020\n",
      "Test size: 6149\n"
     ]
    }
   ],
   "source": [
    "# Data loaders\n",
    "train_loader = DataLoader(train_data, batch_size=32, shuffle=True)\n",
    "val_loader = DataLoader(val_data, batch_size=32, shuffle=False)\n",
    "test_loader = DataLoader(test_data, batch_size=32, shuffle=False)\n",
    "\n",
    "# Check dataset size\n",
    "print(f\"Train size: {len(train_data)}\")\n",
    "print(f\"Validation size: {len(val_data)}\")\n",
    "print(f\"Test size: {len(test_data)}\")"
   ]
  },
  {
   "cell_type": "code",
   "execution_count": 16,
   "id": "8d9d4b35-01aa-4e7f-965a-22141739c49d",
   "metadata": {},
   "outputs": [],
   "source": [
    "import torch.nn as nn\n",
    "from torchvision import models\n",
    "import torch.optim as optim"
   ]
  },
  {
   "cell_type": "code",
   "execution_count": 18,
   "id": "15c8ca8f-36ea-4578-9f8f-8148b08afe46",
   "metadata": {},
   "outputs": [
    {
     "name": "stdout",
     "output_type": "stream",
     "text": [
      "mps\n",
      "Epoch 1/50, Loss: 4.624006867408752\n",
      "Epoch 2/50, Loss: 2.665600948035717\n",
      "Epoch 3/50, Loss: 1.562186848372221\n",
      "Epoch 4/50, Loss: 0.9698489811271429\n",
      "Epoch 5/50, Loss: 0.6590888118371367\n",
      "Epoch 6/50, Loss: 0.44780580420047045\n",
      "Epoch 7/50, Loss: 0.3612577994354069\n",
      "Epoch 8/50, Loss: 0.27846274012699723\n",
      "Epoch 9/50, Loss: 0.20784446084871888\n",
      "Epoch 10/50, Loss: 0.1786797815002501\n",
      "Epoch 11/50, Loss: 0.15118100075051188\n",
      "Epoch 12/50, Loss: 0.12677217344753444\n",
      "Epoch 13/50, Loss: 0.10896958340890706\n",
      "Epoch 14/50, Loss: 0.08655079174786806\n",
      "Epoch 15/50, Loss: 0.07926300552207977\n",
      "Epoch 16/50, Loss: 0.06937166478019208\n",
      "Epoch 17/50, Loss: 0.06202934333123267\n",
      "Epoch 18/50, Loss: 0.059449083637446165\n",
      "Epoch 19/50, Loss: 0.054006511345505714\n",
      "Epoch 20/50, Loss: 0.05080961843486875\n",
      "Epoch 21/50, Loss: 0.048546064645051956\n",
      "Epoch 22/50, Loss: 0.04309162142453715\n",
      "Epoch 23/50, Loss: 0.038092856004368514\n",
      "Epoch 24/50, Loss: 0.036885363631881773\n",
      "Epoch 25/50, Loss: 0.031073131773155183\n",
      "Epoch 26/50, Loss: 0.033395260688848794\n",
      "Epoch 27/50, Loss: 0.03089770150836557\n",
      "Epoch 28/50, Loss: 0.02677526290062815\n",
      "Epoch 29/50, Loss: 0.027098417631350458\n",
      "Epoch 30/50, Loss: 0.025870101060718298\n",
      "Epoch 31/50, Loss: 0.0262324761133641\n",
      "Epoch 32/50, Loss: 0.022631832340266556\n",
      "Epoch 33/50, Loss: 0.020537295727990568\n",
      "Epoch 34/50, Loss: 0.02051288419170305\n",
      "Epoch 35/50, Loss: 0.0200993426842615\n",
      "Epoch 36/50, Loss: 0.019413314119447023\n",
      "Epoch 37/50, Loss: 0.017112302564783022\n",
      "Epoch 38/50, Loss: 0.016799487959360704\n",
      "Epoch 39/50, Loss: 0.01635342769441195\n",
      "Epoch 40/50, Loss: 0.01591204115538858\n",
      "Epoch 41/50, Loss: 0.015083156089531258\n",
      "Epoch 42/50, Loss: 0.015593989010085352\n",
      "Epoch 43/50, Loss: 0.014645717659732327\n",
      "Epoch 44/50, Loss: 0.013245668073068373\n",
      "Epoch 45/50, Loss: 0.012369820266030729\n",
      "Epoch 46/50, Loss: 0.011826945701614022\n",
      "Epoch 47/50, Loss: 0.011533380602486432\n",
      "Epoch 48/50, Loss: 0.01041319481737446\n",
      "Epoch 49/50, Loss: 0.010563185933278874\n",
      "Epoch 50/50, Loss: 0.010296303415088914\n"
     ]
    }
   ],
   "source": [
    "# Load pre-trained model\n",
    "device = torch.device(\"mps\" if torch.backends.mps.is_available() else \"cpu\")\n",
    "print(device)\n",
    "model = models.resnet50(pretrained=True)\n",
    "\n",
    "# Modify the classifier\n",
    "num_features = model.fc.in_features\n",
    "model.fc = nn.Linear(num_features, 102)  # 102 classes\n",
    "model = model.to(device)\n",
    "\n",
    "# Define loss and optimizer\n",
    "criterion = nn.CrossEntropyLoss()\n",
    "optimizer = optim.Adam(model.fc.parameters(), lr=0.001)\n",
    "\n",
    "# Training loop\n",
    "epochs = 50\n",
    "for epoch in range(epochs):\n",
    "    model.train()\n",
    "    running_loss = 0\n",
    "    for images, labels in train_loader:\n",
    "        images, labels = images.to(device), labels.to(device)\n",
    "        optimizer.zero_grad()\n",
    "        outputs = model(images)\n",
    "        loss = criterion(outputs, labels)\n",
    "        loss.backward()\n",
    "        optimizer.step()\n",
    "        running_loss += loss.item()\n",
    "\n",
    "    print(f\"Epoch {epoch+1}/{epochs}, Loss: {running_loss/len(train_loader)}\")\n",
    "\n",
    "# Save the model\n",
    "torch.save(model.state_dict(), \"flower_model.pth\")\n"
   ]
  },
  {
   "cell_type": "code",
   "execution_count": null,
   "id": "591f9870-eaab-4270-b431-1b6f772ac0d9",
   "metadata": {},
   "outputs": [],
   "source": []
  }
 ],
 "metadata": {
  "kernelspec": {
   "display_name": "Python 3 (ipykernel)",
   "language": "python",
   "name": "python3"
  },
  "language_info": {
   "codemirror_mode": {
    "name": "ipython",
    "version": 3
   },
   "file_extension": ".py",
   "mimetype": "text/x-python",
   "name": "python",
   "nbconvert_exporter": "python",
   "pygments_lexer": "ipython3",
   "version": "3.9.19"
  }
 },
 "nbformat": 4,
 "nbformat_minor": 5
}
